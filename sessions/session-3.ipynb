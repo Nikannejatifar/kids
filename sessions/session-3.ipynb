{
 "cells": [
  {
   "cell_type": "markdown",
   "metadata": {},
   "source": [
    "# If statement\n",
    "# Loops\n",
    "## While loop\n",
    "## For loop\n",
    "## Using break to exit loop\n",
    "## Nested loops"
   ]
  },
  {
   "cell_type": "markdown",
   "metadata": {},
   "source": []
  }
 ],
 "metadata": {
  "language_info": {
   "name": "python"
  }
 },
 "nbformat": 4,
 "nbformat_minor": 2
}
