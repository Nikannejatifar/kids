{
 "cells": [
  {
   "cell_type": "markdown",
   "metadata": {},
   "source": [
    "# Conitional Statement\n",
    "\n",
    "- `if` (اگه)\n",
    "- `elif` (در غیر اینصورت اگه)\n",
    "- `else` (در غیر این صورت)\n"
   ]
  },
  {
   "cell_type": "code",
   "execution_count": 2,
   "metadata": {},
   "outputs": [
    {
     "name": "stdout",
     "output_type": "stream",
     "text": [
      "x is bigger than 10\n"
     ]
    }
   ],
   "source": [
    "x = 50\n",
    "if x > 100:\n",
    "  print(\"x is bigger than 100\")\n",
    "elif x > 10:\n",
    "  print(\"x is bigger than 10\")\n",
    "else:\n",
    "  print(\"x is smaller than 10\")"
   ]
  },
  {
   "cell_type": "code",
   "execution_count": 22,
   "metadata": {},
   "outputs": [
    {
     "name": "stdout",
     "output_type": "stream",
     "text": [
      "😭\n"
     ]
    }
   ],
   "source": [
    "if \"Hi\" != \"Hello\":\n",
    "  print(\"😭\")\n",
    "else: \n",
    "  print(\"😳\")"
   ]
  },
  {
   "cell_type": "markdown",
   "metadata": {},
   "source": [
    "> Activity: Even or Odd number\n"
   ]
  },
  {
   "cell_type": "markdown",
   "metadata": {},
   "source": [
    "# Loops\n",
    "\n",
    "- `while` loop\n",
    "- `for` loop\n",
    "- Using `break` to exit loop\n",
    "- Using `continue` to skip a cycle\n",
    "- Nested loops"
   ]
  },
  {
   "cell_type": "code",
   "execution_count": 5,
   "metadata": {},
   "outputs": [
    {
     "name": "stdout",
     "output_type": "stream",
     "text": [
      "0 1 2 3 4 5 6 7 8 9 10 11 12 13 14 15 16 17 18 19 "
     ]
    }
   ],
   "source": [
    "i = 0\n",
    "while i < 20:\n",
    "  print(i, end=' ')\n",
    "  i += 1"
   ]
  },
  {
   "cell_type": "code",
   "execution_count": 6,
   "metadata": {},
   "outputs": [
    {
     "name": "stdout",
     "output_type": "stream",
     "text": [
      "0 1 2 3 4 5 6 7 8 9 10 11 12 13 14 15 16 17 18 19 "
     ]
    }
   ],
   "source": [
    "for i in range(20):\n",
    "  print(i, end=' ')"
   ]
  },
  {
   "cell_type": "code",
   "execution_count": 16,
   "metadata": {},
   "outputs": [
    {
     "name": "stdout",
     "output_type": "stream",
     "text": [
      "b a n n a n a "
     ]
    }
   ],
   "source": [
    "for x in \"bannana\":\n",
    "  print(x, end=' ')"
   ]
  },
  {
   "cell_type": "code",
   "execution_count": 19,
   "metadata": {},
   "outputs": [
    {
     "name": "stdout",
     "output_type": "stream",
     "text": [
      "15 25 35 45 55 "
     ]
    }
   ],
   "source": [
    "for x in range(15, 58, 10):\n",
    "  print(x, end=' ')"
   ]
  },
  {
   "cell_type": "code",
   "execution_count": 11,
   "metadata": {},
   "outputs": [
    {
     "name": "stdout",
     "output_type": "stream",
     "text": [
      "0 2 4 6 8 10 12 14 16 18 20 "
     ]
    }
   ],
   "source": [
    "for i in range(20):\n",
    "  if i > 10:\n",
    "    break\n",
    "  print(i*2, end=' ')"
   ]
  },
  {
   "cell_type": "code",
   "execution_count": 15,
   "metadata": {},
   "outputs": [
    {
     "name": "stdout",
     "output_type": "stream",
     "text": [
      "0 \t1 \t2 \t3 \t4 \t5 \t\n",
      "1 \t2 \t3 \t4 \t5 \t6 \t\n",
      "2 \t3 \t4 \t5 \t6 \t7 \t\n",
      "3 \t4 \t5 \t6 \t7 \t8 \t\n",
      "4 \t5 \t6 \t7 \t8 \t9 \t\n",
      "5 \t6 \t7 \t8 \t9 \t10 \t\n"
     ]
    }
   ],
   "source": [
    "for i in range(6):\n",
    "  for j in range(6):\n",
    "    print(i+j, end=' \\t')\n",
    "  print()"
   ]
  },
  {
   "cell_type": "code",
   "execution_count": null,
   "metadata": {},
   "outputs": [
    {
     "name": "stdout",
     "output_type": "stream",
     "text": [
      "1 2 4 5 7 8 10 11 13 14 16 17 19 "
     ]
    }
   ],
   "source": [
    "for i in range(20):\n",
    "  if i % 3: continue\n",
    "  print(i, end=' ')"
   ]
  },
  {
   "cell_type": "code",
   "execution_count": 27,
   "metadata": {},
   "outputs": [
    {
     "name": "stdout",
     "output_type": "stream",
     "text": [
      "🤢 1 2 3 4 🤢 6 7 8 9 🤢 11 12 13 14 🤢 "
     ]
    }
   ],
   "source": [
    "for i in range(16):\n",
    "  if not i % 5:\n",
    "    print(\"🤢\", end=' ')\n",
    "    continue\n",
    "  print(i, end=' ')"
   ]
  },
  {
   "cell_type": "markdown",
   "metadata": {},
   "source": [
    "> Activity: Multiplication Table"
   ]
  },
  {
   "cell_type": "markdown",
   "metadata": {},
   "source": [
    "> Activity: Calculate Factorial\n"
   ]
  },
  {
   "cell_type": "markdown",
   "metadata": {},
   "source": [
    "> Exercise: 3. Find primary numbers below a number\n"
   ]
  }
 ],
 "metadata": {
  "kernelspec": {
   "display_name": "Python 3",
   "language": "python",
   "name": "python3"
  },
  "language_info": {
   "codemirror_mode": {
    "name": "ipython",
    "version": 3
   },
   "file_extension": ".py",
   "mimetype": "text/x-python",
   "name": "python",
   "nbconvert_exporter": "python",
   "pygments_lexer": "ipython3",
   "version": "3.12.6"
  }
 },
 "nbformat": 4,
 "nbformat_minor": 2
}
