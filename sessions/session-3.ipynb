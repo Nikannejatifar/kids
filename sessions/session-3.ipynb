{
 "cells": [
  {
   "cell_type": "markdown",
   "metadata": {},
   "source": [
    "# Conitional Statement\n",
    "\n",
    "- `if` (اگه)\n",
    "- `elif` (در غیر اینصورت اگه)\n",
    "- `else` (در غیر این صورت)\n"
   ]
  },
  {
   "cell_type": "code",
   "execution_count": 2,
   "metadata": {},
   "outputs": [
    {
     "name": "stdout",
     "output_type": "stream",
     "text": [
      "x is bigger than 10\n"
     ]
    }
   ],
   "source": [
    "x = 50\n",
    "if x > 100:\n",
    "  print(\"x is bigger than 100\")\n",
    "elif x > 10:\n",
    "  print(\"x is bigger than 10\")\n",
    "else:\n",
    "  print(\"x is smaller than 10\")"
   ]
  },
  {
   "cell_type": "code",
   "execution_count": 22,
   "metadata": {},
   "outputs": [
    {
     "name": "stdout",
     "output_type": "stream",
     "text": [
      "😭\n"
     ]
    }
   ],
   "source": [
    "if \"Hi\" != \"Hello\":\n",
    "  print(\"😭\")\n",
    "else: \n",
    "  print(\"😳\")"
   ]
  },
  {
   "cell_type": "markdown",
   "metadata": {},
   "source": [
    "> **Activity**: Even or Odd number\n"
   ]
  },
  {
   "cell_type": "markdown",
   "metadata": {},
   "source": [
    "# Loops\n",
    "\n",
    "- `while` loop\n",
    "- `for` loop\n",
    "- Using `break` to exit loop\n",
    "- Using `continue` to skip a cycle\n",
    "- Nested loops"
   ]
  },
  {
   "cell_type": "code",
   "execution_count": null,
   "metadata": {},
   "outputs": [
    {
     "name": "stdout",
     "output_type": "stream",
     "text": [
      "0 1 2 3 4 5 6 7 8 9 10 11 12 13 14 15 16 17 18 19 "
     ]
    }
   ],
   "source": [
    "# while loop\n",
    "\n",
    "i = 0\n",
    "while i < 20:\n",
    "  print(i, end=' ')\n",
    "  i += 1"
   ]
  },
  {
   "cell_type": "code",
   "execution_count": null,
   "metadata": {},
   "outputs": [
    {
     "name": "stdout",
     "output_type": "stream",
     "text": [
      "0 1 2 3 4 5 6 7 8 9 10 11 12 13 14 15 16 17 18 19 "
     ]
    }
   ],
   "source": [
    "# using range function\n",
    "\n",
    "for i in range(20):\n",
    "  print(i, end=' ')"
   ]
  },
  {
   "cell_type": "code",
   "execution_count": null,
   "metadata": {},
   "outputs": [
    {
     "name": "stdout",
     "output_type": "stream",
     "text": [
      "b a n n a n a "
     ]
    }
   ],
   "source": [
    "# iterating over a string\n",
    "\n",
    "for x in \"bannana\":\n",
    "  print(x, end=' ')"
   ]
  },
  {
   "cell_type": "code",
   "execution_count": null,
   "metadata": {},
   "outputs": [
    {
     "name": "stdout",
     "output_type": "stream",
     "text": [
      "15 25 35 45 55 "
     ]
    }
   ],
   "source": [
    "# using range function with start, end, step\n",
    "\n",
    "for x in range(15, 58, 10):\n",
    "  print(x, end=' ')"
   ]
  },
  {
   "cell_type": "code",
   "execution_count": 6,
   "metadata": {},
   "outputs": [
    {
     "name": "stdout",
     "output_type": "stream",
     "text": [
      "0 2 4 6 8 10 12 14 16 18 20 "
     ]
    }
   ],
   "source": [
    "# using break to exit early loop\n",
    "\n",
    "for i in range(85):\n",
    "  if i > 10:\n",
    "    break\n",
    "  print(i*2, end=' ')"
   ]
  },
  {
   "cell_type": "code",
   "execution_count": null,
   "metadata": {},
   "outputs": [
    {
     "name": "stdout",
     "output_type": "stream",
     "text": [
      "0 \t1 \t2 \t3 \t4 \t5 \t\n",
      "1 \t2 \t3 \t4 \t5 \t6 \t\n",
      "2 \t3 \t4 \t5 \t6 \t7 \t\n",
      "3 \t4 \t5 \t6 \t7 \t8 \t\n",
      "4 \t5 \t6 \t7 \t8 \t9 \t\n",
      "5 \t6 \t7 \t8 \t9 \t10 \t\n"
     ]
    }
   ],
   "source": [
    "# nested loops\n",
    "\n",
    "for i in range(6):\n",
    "  for j in range(6):\n",
    "    print(i+j, end=' \\t')\n",
    "  print()"
   ]
  },
  {
   "cell_type": "code",
   "execution_count": null,
   "metadata": {},
   "outputs": [
    {
     "name": "stdout",
     "output_type": "stream",
     "text": [
      "1 2 4 5 7 8 10 11 13 14 16 17 19 "
     ]
    }
   ],
   "source": [
    "# using range and continue\n",
    "\n",
    "for i in range(20):\n",
    "  if not i % 3: continue # This will ignore any i % 3\n",
    "  print(i, end=' ')"
   ]
  },
  {
   "cell_type": "code",
   "execution_count": null,
   "metadata": {},
   "outputs": [
    {
     "name": "stdout",
     "output_type": "stream",
     "text": [
      "🤢 1 2 3 4 🤢 6 7 8 9 🤢 11 12 13 14 🤢 "
     ]
    }
   ],
   "source": [
    "# using range and continue\n",
    "\n",
    "for i in range(16):\n",
    "  if not i % 5:\n",
    "    print(\"🤢\", end=' ')\n",
    "    continue\n",
    "  print(i, end=' ')"
   ]
  },
  {
   "cell_type": "markdown",
   "metadata": {},
   "source": [
    "> **Activity**: Multiplication Table  \n",
    "> **Activity**: Calculate Factorial  \n",
    "> **Exercise**: 3. Find primary numbers below a number\n"
   ]
  },
  {
   "cell_type": "markdown",
   "metadata": {},
   "source": [
    "## Infinite Loop\n",
    "\n",
    "Let's stuck in there forever and ever... 😈\n"
   ]
  },
  {
   "cell_type": "code",
   "execution_count": null,
   "metadata": {},
   "outputs": [],
   "source": [
    "# TODO DO NOT RUN THIS CODE!\n",
    "# If you run this code, please stop it \n",
    "# and click `...` below and clear output.\n",
    "\n",
    "while True:\n",
    "  print('Hehe')"
   ]
  },
  {
   "cell_type": "markdown",
   "metadata": {},
   "source": [
    "> **Note**: All Games are running inside a infinite loop! How to stop them?\n"
   ]
  }
 ],
 "metadata": {
  "kernelspec": {
   "display_name": "Python 3",
   "language": "python",
   "name": "python3"
  },
  "language_info": {
   "codemirror_mode": {
    "name": "ipython",
    "version": 3
   },
   "file_extension": ".py",
   "mimetype": "text/x-python",
   "name": "python",
   "nbconvert_exporter": "python",
   "pygments_lexer": "ipython3",
   "version": "3.12.6"
  }
 },
 "nbformat": 4,
 "nbformat_minor": 2
}
