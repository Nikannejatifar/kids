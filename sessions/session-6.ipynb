{
 "cells": [
  {
   "cell_type": "markdown",
   "metadata": {},
   "source": [
    "# Importing modules\n",
    "\n",
    "Learning how to use modules and read documentations.\n",
    "\n",
    "### 1. `math` module\n",
    "\n",
    "[Documentation](https://docs.python.org/3/library/math.html#module-math)\n",
    "\n",
    "### 2. `random` module\n",
    "\n",
    "### 3. `datetime` module\n",
    "\n",
    "### 4. `platform` module\n"
   ]
  },
  {
   "cell_type": "markdown",
   "metadata": {},
   "source": [
    "> Exercises: 6. Number guessing game\n"
   ]
  }
 ],
 "metadata": {
  "language_info": {
   "name": "python"
  }
 },
 "nbformat": 4,
 "nbformat_minor": 2
}
