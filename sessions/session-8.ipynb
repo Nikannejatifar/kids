{
 "cells": [
  {
   "cell_type": "markdown",
   "metadata": {},
   "source": [
    "# Creating modules\n",
    "\n",
    "Learning how to create your own modules.\n"
   ]
  },
  {
   "cell_type": "markdown",
   "metadata": {},
   "source": [
    "## Creating a Telegram Bot 🤖\n",
    "\n",
    "**👾 Class Project 👾**\n",
    "\n",
    "We will implement the Number Guessing Game 🎲 into a telegram bot.  \n",
    "Students can play with the game in the class after it's done.\n",
    "\n",
    "Things we review on this project:\n",
    "\n",
    "- Comments\n",
    "- Operators\n",
    "- Type Casting\n",
    "- If and Loops\n",
    "- Creating functions\n",
    "- Importing `random` module\n",
    "- Installing and importing `python-telegram-bot` module\n",
    "- Creating modules\n"
   ]
  }
 ],
 "metadata": {
  "language_info": {
   "name": "python"
  }
 },
 "nbformat": 4,
 "nbformat_minor": 2
}
