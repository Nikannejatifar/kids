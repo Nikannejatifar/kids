{
 "cells": [
  {
   "cell_type": "markdown",
   "metadata": {},
   "source": [
    "### Print to Terminal:\n",
    "learning about the `print` function\n",
    "\n",
    "```mermaid\n",
    "flowchart TD\n",
    "    n1[\"Untitled Node\"] --> A@{ label: \"print 'Hello world!'\" }\n",
    "    A --> n2[\"Untitled Node\"]\n",
    "\n",
    "    n1@{ shape: start}\n",
    "    A@{ shape: square}\n",
    "    n2@{ shape: stop}\n",
    "```"
   ]
  },
  {
   "cell_type": "code",
   "execution_count": 2,
   "metadata": {},
   "outputs": [
    {
     "name": "stdout",
     "output_type": "stream",
     "text": [
      "Hello world!\n"
     ]
    }
   ],
   "source": [
    "print(\"Hello world!\")"
   ]
  },
  {
   "cell_type": "markdown",
   "metadata": {},
   "source": [
    "# 1. Variables"
   ]
  },
  {
   "cell_type": "markdown",
   "metadata": {},
   "source": [
    "```mermaid\n",
    "flowchart TD\n",
    "    B[\"a = 2\"] --> C[\"b = 4\"]\n",
    "    C --> D[\"c = a + b\"]\n",
    "    D --> E[\"print c\"]\n",
    "    E --> Z(\"end\")\n",
    "    n1[\"Untitled Node\"] --> B\n",
    "    Z --> n2[\"Untitled Node\"]\n",
    "\n",
    "    n1@{ shape: start}\n",
    "    n2@{ shape: stop}\n",
    "```"
   ]
  },
  {
   "cell_type": "code",
   "execution_count": 1,
   "metadata": {},
   "outputs": [
    {
     "name": "stdout",
     "output_type": "stream",
     "text": [
      "6\n"
     ]
    }
   ],
   "source": [
    "a = 2\n",
    "b = 4\n",
    "c = a + b\n",
    "print(c)"
   ]
  },
  {
   "cell_type": "markdown",
   "metadata": {},
   "source": [
    "We can also store text into variables:\n",
    "\n",
    "```mermaid\n",
    "flowchart TD\n",
    "    B@{ label: \"s1 = 'Hello'\" } --> C@{ label: \"s2 = 'World!'\" }\n",
    "    C --> D[\"print s1, s2\"]\n",
    "    D --> Z(\"end\")\n",
    "    n1[\"Untitled Node\"] --> B\n",
    "    Z --> n2[\"Untitled Node\"]\n",
    "\n",
    "    B@{ shape: square}\n",
    "    C@{ shape: square}\n",
    "    n1@{ shape: start}\n",
    "    n2@{ shape: stop}\n",
    "```"
   ]
  },
  {
   "cell_type": "code",
   "execution_count": 3,
   "metadata": {},
   "outputs": [
    {
     "name": "stdout",
     "output_type": "stream",
     "text": [
      "Hello World!\n"
     ]
    }
   ],
   "source": [
    "s1 = \"Hello\"\n",
    "s2 = \"World!\"\n",
    "print(s1, s2)"
   ]
  }
 ],
 "metadata": {
  "kernelspec": {
   "display_name": "Python 3",
   "language": "python",
   "name": "python3"
  },
  "language_info": {
   "codemirror_mode": {
    "name": "ipython",
    "version": 3
   },
   "file_extension": ".py",
   "mimetype": "text/x-python",
   "name": "python",
   "nbconvert_exporter": "python",
   "pygments_lexer": "ipython3",
   "version": "3.12.6"
  }
 },
 "nbformat": 4,
 "nbformat_minor": 2
}
