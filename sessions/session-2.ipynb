{
 "cells": [
  {
   "cell_type": "markdown",
   "metadata": {},
   "source": [
    "# Comments\n",
    "# Data types\n",
    "## Numbers (int, float)\n",
    "## Strings\n",
    "## Booleans\n",
    "## None\n",
    "# Operators\n",
    "## Arithmetic Operators\n",
    "## Comparison Operators\n",
    "## Logical Operators\n",
    "## Assignment Operators"
   ]
  },
  {
   "cell_type": "markdown",
   "metadata": {},
   "source": []
  }
 ],
 "metadata": {
  "language_info": {
   "name": "python"
  }
 },
 "nbformat": 4,
 "nbformat_minor": 2
}
