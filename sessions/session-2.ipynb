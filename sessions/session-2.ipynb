{
 "cells": [
  {
   "cell_type": "markdown",
   "metadata": {},
   "source": [
    "# Data types\n",
    "# Operators\n",
    "## Arithmetic Operators\n",
    "## Increment and Decrement\n",
    "## Relational and Logical Operators\n",
    "# Expressions\n",
    "## Type Conversion\n",
    "## Converting to and from bool\n",
    "## Casts"
   ]
  },
  {
   "cell_type": "markdown",
   "metadata": {},
   "source": []
  }
 ],
 "metadata": {
  "language_info": {
   "name": "python"
  }
 },
 "nbformat": 4,
 "nbformat_minor": 2
}
