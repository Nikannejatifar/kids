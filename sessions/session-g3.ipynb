{
 "cells": [
  {
   "cell_type": "markdown",
   "metadata": {},
   "source": [
    "# Final Game Created By Students\n"
   ]
  },
  {
   "cell_type": "markdown",
   "metadata": {},
   "source": [
    "## Credits\n",
    "\n",
    "| Name | Work                    |\n",
    "| ---- | ----------------------- |\n",
    "|      | Create Scene            |\n",
    "|      | Add Keyboard Bindings   |\n",
    "|      | Detect ball hit borders |\n",
    "|      | Detect ball hit paddles |\n",
    "|      | Create Scoreboard       |\n"
   ]
  }
 ],
 "metadata": {
  "language_info": {
   "name": "python"
  }
 },
 "nbformat": 4,
 "nbformat_minor": 2
}
