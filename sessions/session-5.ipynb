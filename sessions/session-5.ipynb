{
 "cells": [
  {
   "cell_type": "markdown",
   "metadata": {},
   "source": [
    "```txt\n",
    "Collections  \n",
    "├── Lists  \n",
    "|   ├── Creating Lists  \n",
    "|   ├── List Methods (append, extend, pop, etc.)  \n",
    "|   └── List Comprehensions  \n",
    "| \n",
    "├── Tuples  \n",
    "|   ├── Creating Tuples  \n",
    "|   └── Tuple Operations  \n",
    "| \n",
    "├── Sets  \n",
    "|   ├── Creating Sets  \n",
    "|   └── Set Methods (add, remove, union, etc.)  \n",
    "| \n",
    "└── Dictionaries  \n",
    "    ├── Creating Dictionaries  \n",
    "    └── Dictionary Methods (get, update, keys, etc.) \n",
    "```"
   ]
  },
  {
   "cell_type": "markdown",
   "metadata": {},
   "source": []
  }
 ],
 "metadata": {
  "language_info": {
   "name": "python"
  }
 },
 "nbformat": 4,
 "nbformat_minor": 2
}
