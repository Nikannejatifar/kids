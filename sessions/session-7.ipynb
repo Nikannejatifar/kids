{
 "cells": [
  {
   "cell_type": "markdown",
   "metadata": {},
   "source": [
    "# Installing modules\n"
   ]
  },
  {
   "cell_type": "markdown",
   "metadata": {},
   "source": [
    "### Installing and Learning a library of student's choice:\n",
    "\n",
    "- `NumPy` — NumPy is a library for scientific computing.\n",
    "- `Pandas` — Pandas is a library for data manipulation and analysis.\n",
    "- `Turtle` — Turtle is a library for drawing and animating shapes.\n",
    "- `Matplotlib` — Matplotlib is a library for data visualization.\n"
   ]
  },
  {
   "cell_type": "markdown",
   "metadata": {},
   "source": [
    "> Work: Students can prepare their works with an installed modules.\n"
   ]
  },
  {
   "cell_type": "markdown",
   "metadata": {},
   "source": [
    "> Exercise: 7. Smiley Face usign `Turtle`\n"
   ]
  }
 ],
 "metadata": {
  "language_info": {
   "name": "python"
  }
 },
 "nbformat": 4,
 "nbformat_minor": 2
}
