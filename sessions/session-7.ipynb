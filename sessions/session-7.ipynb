{
 "cells": [
  {
   "cell_type": "markdown",
   "metadata": {},
   "source": [
    "# Creating modules\n",
    "\n",
    "Learning how to create your own modules.\n"
   ]
  },
  {
   "cell_type": "markdown",
   "metadata": {},
   "source": [
    "# Installing modules\n"
   ]
  },
  {
   "cell_type": "markdown",
   "metadata": {},
   "source": [
    "### Installing and Learning a library of student's choice:\n",
    "\n",
    "- `NumPy` — NumPy is a library for scientific computing in Python.\n",
    "- `Pandas` — Pandas is a library for data manipulation and analysis in Python.\n",
    "- `Matplotlib` — Matplotlib is a library for data visualization in Python.\n"
   ]
  },
  {
   "cell_type": "markdown",
   "metadata": {},
   "source": [
    "> Work: Students can prepare their works with an installed modules.\n"
   ]
  }
 ],
 "metadata": {
  "language_info": {
   "name": "python"
  }
 },
 "nbformat": 4,
 "nbformat_minor": 2
}
