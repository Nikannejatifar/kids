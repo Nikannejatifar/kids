{
 "cells": [
  {
   "cell_type": "markdown",
   "metadata": {},
   "source": [
    "# Learning tools\n",
    "\n",
    "### Git, Github\n",
    "\n",
    "Students will learn how to contribute to a project together.\n",
    "\n",
    "### VSCode shortcuts\n",
    "\n",
    "Students will learn about VSCode shortcuts during class.\n",
    "\n",
    "### Debugging\n",
    "\n",
    "Students will learn how to debug code during Game Project.\n"
   ]
  }
 ],
 "metadata": {
  "language_info": {
   "name": "python"
  }
 },
 "nbformat": 4,
 "nbformat_minor": 2
}
