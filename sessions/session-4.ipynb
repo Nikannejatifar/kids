{
 "cells": [
  {
   "cell_type": "markdown",
   "metadata": {},
   "source": [
    "# Funtions\n",
    "\n",
    "1. Indentations\n",
    "2. Defining Funcitons\n",
    "3. Calling Functions\n"
   ]
  },
  {
   "cell_type": "code",
   "execution_count": 1,
   "metadata": {},
   "outputs": [
    {
     "name": "stdout",
     "output_type": "stream",
     "text": [
      "Hello from my lovely function\n"
     ]
    }
   ],
   "source": [
    "def my_lovely_function():\n",
    "  print('Hello from my lovely function')\n",
    "\n",
    "my_lovely_function()"
   ]
  },
  {
   "cell_type": "markdown",
   "metadata": {},
   "source": [
    "#### 4. Function Arguments\n"
   ]
  },
  {
   "cell_type": "code",
   "execution_count": 19,
   "metadata": {},
   "outputs": [
    {
     "name": "stdout",
     "output_type": "stream",
     "text": [
      "1 2.5 Hi True\n",
      "2 1.5 Hello True\n",
      "3 0.5 Hey True\n"
     ]
    }
   ],
   "source": [
    "def fn(a, b, c, d):\n",
    "  print(a, b, c, d)\n",
    "  \n",
    "fn(1, 2.5, 'Hi', True)\n",
    "fn(a=2, b=1.5, c='Hello', d=True)\n",
    "fn(3, 0.5, c='Hey', d=True)"
   ]
  },
  {
   "cell_type": "markdown",
   "metadata": {},
   "source": [
    "#### 5. Return Statement\n"
   ]
  },
  {
   "cell_type": "code",
   "execution_count": 15,
   "metadata": {},
   "outputs": [
    {
     "name": "stdout",
     "output_type": "stream",
     "text": [
      "Sphere Volume: 523\n"
     ]
    }
   ],
   "source": [
    "def sphere_volume(r: float):\n",
    "  v = 4/3 * 3.14 * r**3\n",
    "  return v\n",
    "\n",
    "v = sphere_volume(5)\n",
    "print('Sphere Volume:', int(v))"
   ]
  },
  {
   "cell_type": "markdown",
   "metadata": {},
   "source": [
    "> **Activity**: Factorial Function  \n",
    "> **Exercise**: 4. Fibbonacci Series Function\n"
   ]
  },
  {
   "cell_type": "markdown",
   "metadata": {},
   "source": [
    "### Call function from another function\n"
   ]
  },
  {
   "cell_type": "code",
   "execution_count": null,
   "metadata": {},
   "outputs": [],
   "source": [
    "def fn_3(x: int):\n",
    "  return x * 2\n",
    "\n",
    "def fn_2():\n",
    "  return 3\n",
    "\n",
    "def fn_1():\n",
    "  x2 = fn_2()\n",
    "  x3 = fn_3(x2)\n",
    "  return x3\n",
    "\n",
    "fn_1()"
   ]
  },
  {
   "cell_type": "markdown",
   "metadata": {},
   "source": [
    "### Passing function to another function as argument\n",
    "\n",
    "This is called a **Callback function**!  \n",
    "In the example below, `fn_2` function is passed as a callback function to `fn_1` function.\n"
   ]
  },
  {
   "cell_type": "code",
   "execution_count": 22,
   "metadata": {},
   "outputs": [
    {
     "name": "stdout",
     "output_type": "stream",
     "text": [
      "fn_3 says: 10\n"
     ]
    }
   ],
   "source": [
    "def fn_2(x: int):\n",
    "  print('fn_3 says:', x*2)\n",
    "\n",
    "def fn_1(fn):\n",
    "  return fn(5)\n",
    "\n",
    "fn_1(fn_2)"
   ]
  },
  {
   "cell_type": "markdown",
   "metadata": {},
   "source": [
    "### Self-calling Function 😯\n",
    "\n",
    "If you call a function from itself, it will loop forever.  \n",
    "So how to prevent it? Using `if` to stop using function and exit.\n"
   ]
  },
  {
   "cell_type": "code",
   "execution_count": 25,
   "metadata": {},
   "outputs": [
    {
     "name": "stdout",
     "output_type": "stream",
     "text": [
      "sum(i..5) = 14\n"
     ]
    }
   ],
   "source": [
    "def fn_wow(i: int):\n",
    "  if i > 5:\n",
    "    return 0\n",
    "  return i + fn_wow(i+1)\n",
    "\n",
    "s = fn_wow(2) # 2 + 3 + 4 + 5 + 0\n",
    "print('sum(i..5) =', s)"
   ]
  }
 ],
 "metadata": {
  "kernelspec": {
   "display_name": "Python 3",
   "language": "python",
   "name": "python3"
  },
  "language_info": {
   "codemirror_mode": {
    "name": "ipython",
    "version": 3
   },
   "file_extension": ".py",
   "mimetype": "text/x-python",
   "name": "python",
   "nbconvert_exporter": "python",
   "pygments_lexer": "ipython3",
   "version": "3.12.6"
  }
 },
 "nbformat": 4,
 "nbformat_minor": 2
}
